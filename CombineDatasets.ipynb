{
 "cells": [
  {
   "cell_type": "markdown",
   "metadata": {},
   "source": [
    "# Combine Data Set"
   ]
  },
  {
   "cell_type": "code",
   "execution_count": 1,
   "metadata": {},
   "outputs": [],
   "source": [
    "import pandas as pd\n",
    "import os"
   ]
  },
  {
   "cell_type": "code",
   "execution_count": 2,
   "outputs": [],
   "source": [
    "dir_ = '/home/carterrhea/Documents/CAM-proj/Output/'"
   ],
   "metadata": {
    "collapsed": false,
    "pycharm": {
     "name": "#%%\n"
    }
   }
  },
  {
   "cell_type": "code",
   "execution_count": 3,
   "metadata": {},
   "outputs": [],
   "source": [
    "os.chdir(dir_)\n",
    "# Read in prolific data\n",
    "Germany_df = pd.read_excel('Prolific_German sample total. Relabelled2.xls')\n",
    "pref = [str(val) for val in Germany_df['CAM_prefix'].to_list()] \n",
    "num = [str(val) for val in Germany_df['lfdn (CAM_number)'].to_list()]\n",
    "Germany_df['User'] = [str(p)+str(n) for p,n in zip(pref,num)]\n",
    "Germany_df = Germany_df.drop_duplicates(subset=['User'],keep='last')\n",
    "Canada_df = pd.read_excel('Prolific_Canadian sample total. Relabelled.xls')\n",
    "pref = [str(val) for val in Canada_df['CAM_Prefix '].to_list()] \n",
    "num = [str(val) for val in Canada_df['lfdn (CAM_number)'].to_list()]\n",
    "Canada_df['User'] = [str(p)+str(n) for p,n in zip(pref,num)]\n",
    "Canada_df = Canada_df.drop_duplicates(subset=['User'],keep='last')\n",
    "# Read in CAM info\n",
    "CAM_df = pd.read_csv('CAMS.csv')\n",
    "CAM_df = CAM_df.drop_duplicates(subset=['User'], keep='last')"
   ]
  },
  {
   "cell_type": "code",
   "execution_count": 4,
   "metadata": {},
   "outputs": [],
   "source": [
    "Germany_df = Germany_df.merge(CAM_df,left_on='User', right_on='User', how='inner')\n",
    "Germany_df.to_csv('German_participants.csv')"
   ]
  },
  {
   "cell_type": "code",
   "execution_count": 5,
   "metadata": {},
   "outputs": [],
   "source": [
    "Canada_df = Canada_df.merge(CAM_df,left_on='User', right_on='User', how='inner')\n",
    "Canada_df.to_csv('Canada_participants.csv')"
   ]
  },
  {
   "cell_type": "code",
   "execution_count": 6,
   "metadata": {},
   "outputs": [
    {
     "data": {
      "text/plain": "     Country CAM_Prefix   lfdn (CAM_number)  dispcode  lastpage  duration  \\\n0          1          CE                  2        31   6549233      1551   \n1          1          CE                  3        32   6549233        -1   \n2          1          CE                  6        32   6549233        -1   \n3          1          CE                  8        31   6549233       964   \n4          1          CE                  9        31   6549233      2194   \n..       ...         ...                ...       ...       ...       ...   \n106        1          EC                 66        31   6578982      1528   \n107        1          EC                 68        32   6578982        -1   \n108        1          EC                 71        32   6578982        -1   \n109        1          EC                 72        32   6578982        -1   \n110        1          EC                 74        32   6578982        -1   \n\n     Consent                ProlificID  CAM_representativeness  \\\n0          1  5eb0453f0852800c239c6afd                       6   \n1          1  5c6eebc52c49e90001959aa6                       7   \n2          1  5e66b86bcbbd9b0476a82584                       7   \n3          1  5d97bd451998fb00157f6bc6                       5   \n4          1  5da9f46fa60c0d0016d6ef2b                       6   \n..       ...                       ...                     ...   \n106        1  5e8c5692b656ff02846c71ad                       7   \n107        1  5c3d76866ce2f80001317da2                       6   \n108        1  5ed11d4474725b030fa1e492                       6   \n109        1  5eb023e0b95d6107e9f726cc                       7   \n110        1  5ed186b9d78a4a0e2dd98f78                       4   \n\n     Technical_Problems  ... Num Links  Num Solid Num Dashed  Density  \\\n0                     1  ...      16.0       13.0        3.0    0.242   \n1                     1  ...      28.0       26.0        2.0    0.074   \n2                     2  ...      17.0       17.0        0.0    0.099   \n3                     1  ...       6.0        5.0        1.0    0.286   \n4                     1  ...      11.0        8.0        3.0    0.167   \n..                  ...  ...       ...        ...        ...      ...   \n106                   1  ...       9.0        8.0        1.0    0.429   \n107                   2  ...       6.0        6.0        0.0    0.286   \n108                   1  ...       6.0        3.0        3.0    0.286   \n109                   1  ...      10.0        7.0        3.0    0.222   \n110                   2  ...       NaN        NaN        NaN    0.000   \n\n    Diameter  Triadic Closure  Central Node    Central Node Title  \\\n0          4            0.279          3668          Staying Home   \n1          7            0.048          3785                Corona   \n2          4            0.000          3709     Social Well-being   \n3          4            0.000          3695     more time at home   \n4          4            0.000          3715     Novel Coronavirus   \n..       ...              ...           ...                   ...   \n106        3            0.474         12530           Corona mind   \n107        2            0.000         12677      grocery shopping   \n108        2            0.000         13202    Family  experience   \n109        4            0.000         13115  Coronavirus outbreak   \n110        0            0.000         13201  Covid related to 5G?   \n\n     Central Node Value  Central Node Valence  \n0                 0.545            ambivalent  \n1                 0.296              negative  \n2                 0.278               neutral  \n3                 0.500       positive strong  \n4                 0.636       negative strong  \n..                  ...                   ...  \n106               0.833               neutral  \n107               1.000               neutral  \n108               1.000               neutral  \n109               0.667       negative strong  \n110               0.000               neutral  \n\n[111 rows x 236 columns]",
      "text/html": "<div>\n<style scoped>\n    .dataframe tbody tr th:only-of-type {\n        vertical-align: middle;\n    }\n\n    .dataframe tbody tr th {\n        vertical-align: top;\n    }\n\n    .dataframe thead th {\n        text-align: right;\n    }\n</style>\n<table border=\"1\" class=\"dataframe\">\n  <thead>\n    <tr style=\"text-align: right;\">\n      <th></th>\n      <th>Country</th>\n      <th>CAM_Prefix</th>\n      <th>lfdn (CAM_number)</th>\n      <th>dispcode</th>\n      <th>lastpage</th>\n      <th>duration</th>\n      <th>Consent</th>\n      <th>ProlificID</th>\n      <th>CAM_representativeness</th>\n      <th>Technical_Problems</th>\n      <th>...</th>\n      <th>Num Links</th>\n      <th>Num Solid</th>\n      <th>Num Dashed</th>\n      <th>Density</th>\n      <th>Diameter</th>\n      <th>Triadic Closure</th>\n      <th>Central Node</th>\n      <th>Central Node Title</th>\n      <th>Central Node Value</th>\n      <th>Central Node Valence</th>\n    </tr>\n  </thead>\n  <tbody>\n    <tr>\n      <th>0</th>\n      <td>1</td>\n      <td>CE</td>\n      <td>2</td>\n      <td>31</td>\n      <td>6549233</td>\n      <td>1551</td>\n      <td>1</td>\n      <td>5eb0453f0852800c239c6afd</td>\n      <td>6</td>\n      <td>1</td>\n      <td>...</td>\n      <td>16.0</td>\n      <td>13.0</td>\n      <td>3.0</td>\n      <td>0.242</td>\n      <td>4</td>\n      <td>0.279</td>\n      <td>3668</td>\n      <td>Staying Home</td>\n      <td>0.545</td>\n      <td>ambivalent</td>\n    </tr>\n    <tr>\n      <th>1</th>\n      <td>1</td>\n      <td>CE</td>\n      <td>3</td>\n      <td>32</td>\n      <td>6549233</td>\n      <td>-1</td>\n      <td>1</td>\n      <td>5c6eebc52c49e90001959aa6</td>\n      <td>7</td>\n      <td>1</td>\n      <td>...</td>\n      <td>28.0</td>\n      <td>26.0</td>\n      <td>2.0</td>\n      <td>0.074</td>\n      <td>7</td>\n      <td>0.048</td>\n      <td>3785</td>\n      <td>Corona</td>\n      <td>0.296</td>\n      <td>negative</td>\n    </tr>\n    <tr>\n      <th>2</th>\n      <td>1</td>\n      <td>CE</td>\n      <td>6</td>\n      <td>32</td>\n      <td>6549233</td>\n      <td>-1</td>\n      <td>1</td>\n      <td>5e66b86bcbbd9b0476a82584</td>\n      <td>7</td>\n      <td>2</td>\n      <td>...</td>\n      <td>17.0</td>\n      <td>17.0</td>\n      <td>0.0</td>\n      <td>0.099</td>\n      <td>4</td>\n      <td>0.000</td>\n      <td>3709</td>\n      <td>Social Well-being</td>\n      <td>0.278</td>\n      <td>neutral</td>\n    </tr>\n    <tr>\n      <th>3</th>\n      <td>1</td>\n      <td>CE</td>\n      <td>8</td>\n      <td>31</td>\n      <td>6549233</td>\n      <td>964</td>\n      <td>1</td>\n      <td>5d97bd451998fb00157f6bc6</td>\n      <td>5</td>\n      <td>1</td>\n      <td>...</td>\n      <td>6.0</td>\n      <td>5.0</td>\n      <td>1.0</td>\n      <td>0.286</td>\n      <td>4</td>\n      <td>0.000</td>\n      <td>3695</td>\n      <td>more time at home</td>\n      <td>0.500</td>\n      <td>positive strong</td>\n    </tr>\n    <tr>\n      <th>4</th>\n      <td>1</td>\n      <td>CE</td>\n      <td>9</td>\n      <td>31</td>\n      <td>6549233</td>\n      <td>2194</td>\n      <td>1</td>\n      <td>5da9f46fa60c0d0016d6ef2b</td>\n      <td>6</td>\n      <td>1</td>\n      <td>...</td>\n      <td>11.0</td>\n      <td>8.0</td>\n      <td>3.0</td>\n      <td>0.167</td>\n      <td>4</td>\n      <td>0.000</td>\n      <td>3715</td>\n      <td>Novel Coronavirus</td>\n      <td>0.636</td>\n      <td>negative strong</td>\n    </tr>\n    <tr>\n      <th>...</th>\n      <td>...</td>\n      <td>...</td>\n      <td>...</td>\n      <td>...</td>\n      <td>...</td>\n      <td>...</td>\n      <td>...</td>\n      <td>...</td>\n      <td>...</td>\n      <td>...</td>\n      <td>...</td>\n      <td>...</td>\n      <td>...</td>\n      <td>...</td>\n      <td>...</td>\n      <td>...</td>\n      <td>...</td>\n      <td>...</td>\n      <td>...</td>\n      <td>...</td>\n      <td>...</td>\n    </tr>\n    <tr>\n      <th>106</th>\n      <td>1</td>\n      <td>EC</td>\n      <td>66</td>\n      <td>31</td>\n      <td>6578982</td>\n      <td>1528</td>\n      <td>1</td>\n      <td>5e8c5692b656ff02846c71ad</td>\n      <td>7</td>\n      <td>1</td>\n      <td>...</td>\n      <td>9.0</td>\n      <td>8.0</td>\n      <td>1.0</td>\n      <td>0.429</td>\n      <td>3</td>\n      <td>0.474</td>\n      <td>12530</td>\n      <td>Corona mind</td>\n      <td>0.833</td>\n      <td>neutral</td>\n    </tr>\n    <tr>\n      <th>107</th>\n      <td>1</td>\n      <td>EC</td>\n      <td>68</td>\n      <td>32</td>\n      <td>6578982</td>\n      <td>-1</td>\n      <td>1</td>\n      <td>5c3d76866ce2f80001317da2</td>\n      <td>6</td>\n      <td>2</td>\n      <td>...</td>\n      <td>6.0</td>\n      <td>6.0</td>\n      <td>0.0</td>\n      <td>0.286</td>\n      <td>2</td>\n      <td>0.000</td>\n      <td>12677</td>\n      <td>grocery shopping</td>\n      <td>1.000</td>\n      <td>neutral</td>\n    </tr>\n    <tr>\n      <th>108</th>\n      <td>1</td>\n      <td>EC</td>\n      <td>71</td>\n      <td>32</td>\n      <td>6578982</td>\n      <td>-1</td>\n      <td>1</td>\n      <td>5ed11d4474725b030fa1e492</td>\n      <td>6</td>\n      <td>1</td>\n      <td>...</td>\n      <td>6.0</td>\n      <td>3.0</td>\n      <td>3.0</td>\n      <td>0.286</td>\n      <td>2</td>\n      <td>0.000</td>\n      <td>13202</td>\n      <td>Family  experience</td>\n      <td>1.000</td>\n      <td>neutral</td>\n    </tr>\n    <tr>\n      <th>109</th>\n      <td>1</td>\n      <td>EC</td>\n      <td>72</td>\n      <td>32</td>\n      <td>6578982</td>\n      <td>-1</td>\n      <td>1</td>\n      <td>5eb023e0b95d6107e9f726cc</td>\n      <td>7</td>\n      <td>1</td>\n      <td>...</td>\n      <td>10.0</td>\n      <td>7.0</td>\n      <td>3.0</td>\n      <td>0.222</td>\n      <td>4</td>\n      <td>0.000</td>\n      <td>13115</td>\n      <td>Coronavirus outbreak</td>\n      <td>0.667</td>\n      <td>negative strong</td>\n    </tr>\n    <tr>\n      <th>110</th>\n      <td>1</td>\n      <td>EC</td>\n      <td>74</td>\n      <td>32</td>\n      <td>6578982</td>\n      <td>-1</td>\n      <td>1</td>\n      <td>5ed186b9d78a4a0e2dd98f78</td>\n      <td>4</td>\n      <td>2</td>\n      <td>...</td>\n      <td>NaN</td>\n      <td>NaN</td>\n      <td>NaN</td>\n      <td>0.000</td>\n      <td>0</td>\n      <td>0.000</td>\n      <td>13201</td>\n      <td>Covid related to 5G?</td>\n      <td>0.000</td>\n      <td>neutral</td>\n    </tr>\n  </tbody>\n</table>\n<p>111 rows × 236 columns</p>\n</div>"
     },
     "execution_count": 6,
     "metadata": {},
     "output_type": "execute_result"
    }
   ],
   "source": [
    "Canada_df"
   ]
  },
  {
   "cell_type": "code",
   "execution_count": null,
   "metadata": {},
   "outputs": [],
   "source": []
  }
 ],
 "metadata": {
  "kernelspec": {
   "display_name": "Python 3",
   "language": "python",
   "name": "python3"
  },
  "language_info": {
   "codemirror_mode": {
    "name": "ipython",
    "version": 3
   },
   "file_extension": ".py",
   "mimetype": "text/x-python",
   "name": "python",
   "nbconvert_exporter": "python",
   "pygments_lexer": "ipython3",
   "version": "3.7.6"
  }
 },
 "nbformat": 4,
 "nbformat_minor": 4
}